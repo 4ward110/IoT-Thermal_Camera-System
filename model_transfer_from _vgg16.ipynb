{
 "cells": [
  {
   "cell_type": "code",
   "execution_count": null,
   "id": "7e557e63",
   "metadata": {},
   "outputs": [],
   "source": [
    "## THIS MODEL USING TRANSFER LEARNING TO CONSTRUCT A CNN FOR FACE RECOGNITION"
   ]
  },
  {
   "cell_type": "code",
   "execution_count": 1,
   "id": "a3223042",
   "metadata": {},
   "outputs": [],
   "source": [
    "import time\n",
    "import tensorflow as tf\n",
    "import numpy as np\n",
    "import matplotlib.pyplot as plt\n",
    "import tensorflow.keras as keras\n",
    "from tensorflow.keras import optimizers\n",
    "from keras import regularizers\n",
    "from keras_preprocessing.image import ImageDataGenerator\n",
    "from tensorflow.keras.models import Sequential\n",
    "from tensorflow.keras.layers import Dense, Activation, Flatten, Dropout, BatchNormalization\n",
    "from tensorflow.keras.layers import Conv2D, MaxPooling2D\n",
    "from tensorflow.keras.preprocessing.image import ImageDataGenerator"
   ]
  },
  {
   "cell_type": "code",
   "execution_count": 2,
   "id": "7163e645",
   "metadata": {},
   "outputs": [
    {
     "name": "stdout",
     "output_type": "stream",
     "text": [
      "Model: \"vgg16\"\n",
      "_________________________________________________________________\n",
      " Layer (type)                Output Shape              Param #   \n",
      "=================================================================\n",
      " input_1 (InputLayer)        [(None, 72, 96, 3)]       0         \n",
      "                                                                 \n",
      " block1_conv1 (Conv2D)       (None, 72, 96, 64)        1792      \n",
      "                                                                 \n",
      " block1_conv2 (Conv2D)       (None, 72, 96, 64)        36928     \n",
      "                                                                 \n",
      " block1_pool (MaxPooling2D)  (None, 36, 48, 64)        0         \n",
      "                                                                 \n",
      " block2_conv1 (Conv2D)       (None, 36, 48, 128)       73856     \n",
      "                                                                 \n",
      " block2_conv2 (Conv2D)       (None, 36, 48, 128)       147584    \n",
      "                                                                 \n",
      " block2_pool (MaxPooling2D)  (None, 18, 24, 128)       0         \n",
      "                                                                 \n",
      " block3_conv1 (Conv2D)       (None, 18, 24, 256)       295168    \n",
      "                                                                 \n",
      " block3_conv2 (Conv2D)       (None, 18, 24, 256)       590080    \n",
      "                                                                 \n",
      " block3_conv3 (Conv2D)       (None, 18, 24, 256)       590080    \n",
      "                                                                 \n",
      " block3_pool (MaxPooling2D)  (None, 9, 12, 256)        0         \n",
      "                                                                 \n",
      " block4_conv1 (Conv2D)       (None, 9, 12, 512)        1180160   \n",
      "                                                                 \n",
      " block4_conv2 (Conv2D)       (None, 9, 12, 512)        2359808   \n",
      "                                                                 \n",
      " block4_conv3 (Conv2D)       (None, 9, 12, 512)        2359808   \n",
      "                                                                 \n",
      " block4_pool (MaxPooling2D)  (None, 4, 6, 512)         0         \n",
      "                                                                 \n",
      " block5_conv1 (Conv2D)       (None, 4, 6, 512)         2359808   \n",
      "                                                                 \n",
      " block5_conv2 (Conv2D)       (None, 4, 6, 512)         2359808   \n",
      "                                                                 \n",
      " block5_conv3 (Conv2D)       (None, 4, 6, 512)         2359808   \n",
      "                                                                 \n",
      " block5_pool (MaxPooling2D)  (None, 2, 3, 512)         0         \n",
      "                                                                 \n",
      "=================================================================\n",
      "Total params: 14,714,688\n",
      "Trainable params: 14,714,688\n",
      "Non-trainable params: 0\n",
      "_________________________________________________________________\n"
     ]
    }
   ],
   "source": [
    "conv_base = tf.keras.applications.VGG16(weights = 'imagenet',\n",
    "                 include_top=False,\n",
    "                 input_shape=(72, 96, 3))\n",
    "conv_base.summary()"
   ]
  },
  {
   "cell_type": "code",
   "execution_count": 3,
   "id": "c97f71a1",
   "metadata": {},
   "outputs": [],
   "source": [
    "for i in range (10,19):\n",
    "    (conv_base.layers)[i].trainable =  False"
   ]
  },
  {
   "cell_type": "code",
   "execution_count": 4,
   "id": "d002430a",
   "metadata": {},
   "outputs": [
    {
     "name": "stdout",
     "output_type": "stream",
     "text": [
      "Model: \"vgg16\"\n",
      "_________________________________________________________________\n",
      " Layer (type)                Output Shape              Param #   \n",
      "=================================================================\n",
      " input_1 (InputLayer)        [(None, 72, 96, 3)]       0         \n",
      "                                                                 \n",
      " block1_conv1 (Conv2D)       (None, 72, 96, 64)        1792      \n",
      "                                                                 \n",
      " block1_conv2 (Conv2D)       (None, 72, 96, 64)        36928     \n",
      "                                                                 \n",
      " block1_pool (MaxPooling2D)  (None, 36, 48, 64)        0         \n",
      "                                                                 \n",
      " block2_conv1 (Conv2D)       (None, 36, 48, 128)       73856     \n",
      "                                                                 \n",
      " block2_conv2 (Conv2D)       (None, 36, 48, 128)       147584    \n",
      "                                                                 \n",
      " block2_pool (MaxPooling2D)  (None, 18, 24, 128)       0         \n",
      "                                                                 \n",
      " block3_conv1 (Conv2D)       (None, 18, 24, 256)       295168    \n",
      "                                                                 \n",
      " block3_conv2 (Conv2D)       (None, 18, 24, 256)       590080    \n",
      "                                                                 \n",
      " block3_conv3 (Conv2D)       (None, 18, 24, 256)       590080    \n",
      "                                                                 \n",
      " block3_pool (MaxPooling2D)  (None, 9, 12, 256)        0         \n",
      "                                                                 \n",
      " block4_conv1 (Conv2D)       (None, 9, 12, 512)        1180160   \n",
      "                                                                 \n",
      " block4_conv2 (Conv2D)       (None, 9, 12, 512)        2359808   \n",
      "                                                                 \n",
      " block4_conv3 (Conv2D)       (None, 9, 12, 512)        2359808   \n",
      "                                                                 \n",
      " block4_pool (MaxPooling2D)  (None, 4, 6, 512)         0         \n",
      "                                                                 \n",
      " block5_conv1 (Conv2D)       (None, 4, 6, 512)         2359808   \n",
      "                                                                 \n",
      " block5_conv2 (Conv2D)       (None, 4, 6, 512)         2359808   \n",
      "                                                                 \n",
      " block5_conv3 (Conv2D)       (None, 4, 6, 512)         2359808   \n",
      "                                                                 \n",
      " block5_pool (MaxPooling2D)  (None, 2, 3, 512)         0         \n",
      "                                                                 \n",
      "=================================================================\n",
      "Total params: 14,714,688\n",
      "Trainable params: 1,735,488\n",
      "Non-trainable params: 12,979,200\n",
      "_________________________________________________________________\n"
     ]
    }
   ],
   "source": [
    "conv_base.summary()"
   ]
  },
  {
   "cell_type": "code",
   "execution_count": 5,
   "id": "af677ce8",
   "metadata": {},
   "outputs": [
    {
     "name": "stdout",
     "output_type": "stream",
     "text": [
      "19\n"
     ]
    }
   ],
   "source": [
    "print(len(conv_base.layers))"
   ]
  },
  {
   "cell_type": "code",
   "execution_count": 6,
   "id": "8c565a48",
   "metadata": {},
   "outputs": [
    {
     "data": {
      "text/plain": [
       "<keras.layers.pooling.MaxPooling2D at 0x2321e52af70>"
      ]
     },
     "execution_count": 6,
     "metadata": {},
     "output_type": "execute_result"
    }
   ],
   "source": [
    "conv_base.layers[10]"
   ]
  },
  {
   "cell_type": "code",
   "execution_count": 7,
   "id": "0c1f170f",
   "metadata": {},
   "outputs": [],
   "source": [
    "inp = conv_base.input\n",
    "out = conv_base.layers[9].output"
   ]
  },
  {
   "cell_type": "code",
   "execution_count": 8,
   "id": "32702545",
   "metadata": {},
   "outputs": [],
   "source": [
    "from keras.models import Model\n",
    "model2 = Model(inp, out)"
   ]
  },
  {
   "cell_type": "code",
   "execution_count": 9,
   "id": "3c29f9f8",
   "metadata": {},
   "outputs": [],
   "source": [
    "cont = 0\n",
    "for layer in model2.layers:\n",
    "    cont = cont + 1\n",
    "    if (cont >= 8 and cont < 11):\n",
    "        layer.trainable = True\n",
    "    else:\n",
    "        layer.trainable = False"
   ]
  },
  {
   "cell_type": "code",
   "execution_count": 10,
   "id": "838beeb9",
   "metadata": {},
   "outputs": [
    {
     "name": "stdout",
     "output_type": "stream",
     "text": [
      "Model: \"model\"\n",
      "_________________________________________________________________\n",
      " Layer (type)                Output Shape              Param #   \n",
      "=================================================================\n",
      " input_1 (InputLayer)        [(None, 72, 96, 3)]       0         \n",
      "                                                                 \n",
      " block1_conv1 (Conv2D)       (None, 72, 96, 64)        1792      \n",
      "                                                                 \n",
      " block1_conv2 (Conv2D)       (None, 72, 96, 64)        36928     \n",
      "                                                                 \n",
      " block1_pool (MaxPooling2D)  (None, 36, 48, 64)        0         \n",
      "                                                                 \n",
      " block2_conv1 (Conv2D)       (None, 36, 48, 128)       73856     \n",
      "                                                                 \n",
      " block2_conv2 (Conv2D)       (None, 36, 48, 128)       147584    \n",
      "                                                                 \n",
      " block2_pool (MaxPooling2D)  (None, 18, 24, 128)       0         \n",
      "                                                                 \n",
      " block3_conv1 (Conv2D)       (None, 18, 24, 256)       295168    \n",
      "                                                                 \n",
      " block3_conv2 (Conv2D)       (None, 18, 24, 256)       590080    \n",
      "                                                                 \n",
      " block3_conv3 (Conv2D)       (None, 18, 24, 256)       590080    \n",
      "                                                                 \n",
      "=================================================================\n",
      "Total params: 1,735,488\n",
      "Trainable params: 1,475,328\n",
      "Non-trainable params: 260,160\n",
      "_________________________________________________________________\n"
     ]
    }
   ],
   "source": [
    "model2.summary()"
   ]
  },
  {
   "cell_type": "code",
   "execution_count": null,
   "id": "083c84e6",
   "metadata": {},
   "outputs": [],
   "source": [
    "# train/val/test split (NOT RUNNING ANYMORE)\n",
    "import splitfolders\n",
    "# split data \n",
    "# input_folder = \"../image_from_video/thermal_image\"\n",
    "output_folder = \"../data_for_vgg16\"\n",
    "splitfolders.ratio(\"../image_from_video/thermal_image\", output_folder,\n",
    "    seed=1337, ratio=(.6, .2, .2), group_prefix=None, move=False) # default values"
   ]
  },
  {
   "cell_type": "code",
   "execution_count": null,
   "id": "c6e03d70",
   "metadata": {},
   "outputs": [],
   "source": [
    "# pre-processing-data (reduce noise)\n",
    "# Face detection for thermal image\n",
    "\n",
    "from PIL import Image\n",
    "from matplotlib import pyplot as plt\n",
    "import cv2\n",
    "import numpy as np\n",
    "import os\n",
    "import sys\n",
    "import time\n",
    "\n",
    "# crop face_image\n",
    "def convert_rgb_to_gray(file_name):\n",
    "    img2 = cv2.imread(file_name)\n",
    "    dst = cv2.fastNlMeansDenoisingColored(img2,None,10,10,7,21)\n",
    "    cv2.imwrite(file_name, dst)\n",
    "    print(\" Complete convert: \" + file_name + \"\\n\")\n",
    "\n",
    "# make directory store all processed image\n",
    "def data_processing(folder_names, path):\n",
    "    for folder_name in folder_names:\n",
    "        folder_path = path + folder_name\n",
    "        file_names = os.listdir(folder_path)\n",
    "        \n",
    "        for file in file_names:\n",
    "            image_dir = folder_path + \"/\" + file\n",
    "            convert_rgb_to_gray(image_dir)"
   ]
  },
  {
   "cell_type": "code",
   "execution_count": null,
   "id": "70168a95",
   "metadata": {},
   "outputs": [],
   "source": [
    "path = \"../data_for_vgg16/test/\"\n",
    "folder_names = os.listdir(path)\n",
    "data_processing(folder_names, path)"
   ]
  },
  {
   "cell_type": "code",
   "execution_count": 11,
   "id": "942c1dc0",
   "metadata": {},
   "outputs": [
    {
     "name": "stdout",
     "output_type": "stream",
     "text": [
      "C:/Users/vuduc/data_for_vgg16/val\n",
      "C:/Users/vuduc/data_for_vgg16/train\n"
     ]
    }
   ],
   "source": [
    "#Copying images to training, validation, and test directories\n",
    "import os, shutil\n",
    "import numpy as np\n",
    "#Path where my dataset is stored\n",
    "base_dir = 'C:/Users/vuduc/data_for_vgg16/'\n",
    "\n",
    "\n",
    "# Directories for the training, validation and test splits\n",
    "train_dir = os.path.join(base_dir, 'train')\n",
    "validation_dir = os.path.join(base_dir, 'val')\n",
    "test_dir = os.path.join(base_dir, 'test')\n",
    "print(validation_dir)\n",
    "print(train_dir)"
   ]
  },
  {
   "cell_type": "code",
   "execution_count": 12,
   "id": "3f810971",
   "metadata": {},
   "outputs": [
    {
     "name": "stdout",
     "output_type": "stream",
     "text": [
      "Model: \"sequential\"\n",
      "_________________________________________________________________\n",
      " Layer (type)                Output Shape              Param #   \n",
      "=================================================================\n",
      " model (Functional)          (None, 18, 24, 256)       1735488   \n",
      "                                                                 \n",
      " max_pooling2d (MaxPooling2D  (None, 9, 12, 256)       0         \n",
      " )                                                               \n",
      "                                                                 \n",
      " batch_normalization (BatchN  (None, 9, 12, 256)       1024      \n",
      " ormalization)                                                   \n",
      "                                                                 \n",
      " flatten (Flatten)           (None, 27648)             0         \n",
      "                                                                 \n",
      " dense (Dense)               (None, 19)                525331    \n",
      "                                                                 \n",
      "=================================================================\n",
      "Total params: 2,261,843\n",
      "Trainable params: 2,001,171\n",
      "Non-trainable params: 260,672\n",
      "_________________________________________________________________\n"
     ]
    }
   ],
   "source": [
    "from keras import layers\n",
    "from keras import models\n",
    "\n",
    "model = Sequential()\n",
    "model.add(model2)\n",
    "model.add(MaxPooling2D((2, 2)))\n",
    "model.add(BatchNormalization())\n",
    "model.add(Flatten())\n",
    "model.add(Dense(19, activation='softmax'))\n",
    "model.summary()"
   ]
  },
  {
   "cell_type": "code",
   "execution_count": 13,
   "id": "eab3101d",
   "metadata": {},
   "outputs": [],
   "source": [
    "#Compilation stage\n",
    "from tensorflow.keras import optimizers\n",
    "learning_rate = 1e-4\n",
    "momentum = 0.9\n",
    "\n",
    "model.compile(loss='categorical_crossentropy',\n",
    "              optimizer=optimizers.RMSprop(learning_rate=1e-4, decay=1e-6), #Decrease learning rate\n",
    "              metrics=['accuracy'])"
   ]
  },
  {
   "cell_type": "code",
   "execution_count": 14,
   "id": "41e9f1e0",
   "metadata": {},
   "outputs": [
    {
     "name": "stdout",
     "output_type": "stream",
     "text": [
      "Found 4560 images belonging to 19 classes.\n",
      "Found 1520 images belonging to 19 classes.\n"
     ]
    }
   ],
   "source": [
    "#Using ImageDataGenerator to read images from directories\n",
    "\n",
    "train_datagen = ImageDataGenerator(rescale=1./255)\n",
    "\n",
    "test_datagen = ImageDataGenerator(rescale=1./255)\n",
    "\n",
    "train_generator = train_datagen.flow_from_directory(\n",
    "        train_dir, # Target directory\n",
    "        target_size=(72, 96), # All images are resized from 240x320 to 72x96\n",
    "        batch_size= 32,\n",
    "        color_mode='rgb',\n",
    "        class_mode='categorical')\n",
    "\n",
    "validation_generator = test_datagen.flow_from_directory(\n",
    "        validation_dir,\n",
    "        target_size=(72, 96),\n",
    "        batch_size=32,\n",
    "        color_mode='rgb',\n",
    "        class_mode='categorical')"
   ]
  },
  {
   "cell_type": "code",
   "execution_count": 15,
   "id": "bda1e5d3",
   "metadata": {},
   "outputs": [
    {
     "name": "stdout",
     "output_type": "stream",
     "text": [
      "Epoch 1/10\n",
      "143/143 [==============================] - 213s 1s/step - loss: 0.3224 - accuracy: 0.9081 - val_loss: 0.0355 - val_accuracy: 0.9917\n",
      "Epoch 2/10\n",
      "143/143 [==============================] - 220s 2s/step - loss: 0.0097 - accuracy: 0.9980 - val_loss: 0.0122 - val_accuracy: 0.9958\n",
      "Epoch 3/10\n",
      "143/143 [==============================] - 220s 2s/step - loss: 0.0049 - accuracy: 0.9987 - val_loss: 0.0074 - val_accuracy: 0.9990\n",
      "Epoch 4/10\n",
      "143/143 [==============================] - 222s 2s/step - loss: 2.1787e-04 - accuracy: 1.0000 - val_loss: 0.0091 - val_accuracy: 0.9958\n",
      "Epoch 5/10\n",
      "143/143 [==============================] - 222s 2s/step - loss: 1.2793e-04 - accuracy: 1.0000 - val_loss: 0.0018 - val_accuracy: 0.9990\n",
      "Epoch 6/10\n",
      "143/143 [==============================] - 227s 2s/step - loss: 2.8911e-04 - accuracy: 0.9998 - val_loss: 9.0042e-04 - val_accuracy: 1.0000\n",
      "Epoch 7/10\n",
      "143/143 [==============================] - 228s 2s/step - loss: 3.2088e-06 - accuracy: 1.0000 - val_loss: 0.0074 - val_accuracy: 0.9979\n",
      "Epoch 8/10\n",
      "143/143 [==============================] - 238s 2s/step - loss: 2.0085e-07 - accuracy: 1.0000 - val_loss: 0.0055 - val_accuracy: 0.9979\n",
      "Epoch 9/10\n",
      "143/143 [==============================] - 223s 2s/step - loss: 4.7777e-07 - accuracy: 1.0000 - val_loss: 0.0010 - val_accuracy: 0.9990\n",
      "Epoch 10/10\n",
      "143/143 [==============================] - 223s 2s/step - loss: 1.4404e-08 - accuracy: 1.0000 - val_loss: 0.0055 - val_accuracy: 0.9979\n"
     ]
    }
   ],
   "source": [
    "#Training and validation stages\n",
    "history = model.fit(\n",
    "      train_generator,\n",
    "      epochs= 10,\n",
    "      validation_data=validation_generator,\n",
    "      validation_steps=30)"
   ]
  },
  {
   "cell_type": "code",
   "execution_count": null,
   "id": "1e3cdc6d",
   "metadata": {},
   "outputs": [],
   "source": [
    "model.save(\"thermal_net.h5\")"
   ]
  },
  {
   "cell_type": "code",
   "execution_count": null,
   "id": "8328c036",
   "metadata": {},
   "outputs": [],
   "source": [
    "#Plot of the loss and accuracy during training\n",
    "\n",
    "acc = history.history['accuracy']\n",
    "val_acc = history.history['val_accuracy']\n",
    "loss = history.history['loss']\n",
    "val_loss = history.history['val_loss']\n",
    "\n",
    "epochs = range(len(acc))\n",
    "\n",
    "plt.plot(epochs, acc, 'bo', label='Training acc')\n",
    "plt.plot(epochs, val_acc, 'b', label='Validation acc')\n",
    "plt.title('Training and validation accuracy')\n",
    "plt.legend()\n",
    "\n",
    "plt.figure()\n",
    "\n",
    "plt.plot(epochs, loss, 'bo', label='Training loss')\n",
    "plt.plot(epochs, val_loss, 'b', label='Validation loss')\n",
    "plt.title('Training and validation loss')\n",
    "plt.legend()\n",
    "\n",
    "plt.show()"
   ]
  },
  {
   "cell_type": "code",
   "execution_count": null,
   "id": "fce4d0ad",
   "metadata": {},
   "outputs": [],
   "source": [
    "#Test stage\n",
    "test_generator = test_datagen.flow_from_directory(\n",
    "        test_dir,\n",
    "        target_size=(72, 96),\n",
    "        batch_size=64,\n",
    "        color_mode='rgb',\n",
    "        class_mode='categorical')\n",
    "\n",
    "start_time = time.time()\n",
    "test_loss, test_acc = model.evaluate(test_generator, steps = 30)\n",
    "end_time = time.time()\n",
    "testing_time = end_time - start_time\n",
    "print('test acc:', test_acc)\n",
    "print('test loss:', test_loss)"
   ]
  },
  {
   "cell_type": "code",
   "execution_count": null,
   "id": "126bf430",
   "metadata": {},
   "outputs": [],
   "source": []
  }
 ],
 "metadata": {
  "kernelspec": {
   "display_name": "Python 3",
   "language": "python",
   "name": "python3"
  },
  "language_info": {
   "codemirror_mode": {
    "name": "ipython",
    "version": 3
   },
   "file_extension": ".py",
   "mimetype": "text/x-python",
   "name": "python",
   "nbconvert_exporter": "python",
   "pygments_lexer": "ipython3",
   "version": "3.8.8"
  }
 },
 "nbformat": 4,
 "nbformat_minor": 5
}
