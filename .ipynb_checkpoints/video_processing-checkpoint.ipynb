{
 "cells": [
  {
   "cell_type": "code",
   "execution_count": 1,
   "id": "acb024e9",
   "metadata": {},
   "outputs": [
    {
     "name": "stdout",
     "output_type": "stream",
     "text": [
      "../thermal_video_data\\an\n",
      "../thermal_video_data\\doan_thi_linh_chi\n",
      "../thermal_video_data\\duc_hieu\n",
      "../thermal_video_data\\duc_long\n",
      "../thermal_video_data\\hiepd19\n",
      "../thermal_video_data\\huongd19\n",
      "../thermal_video_data\\kvduc\n",
      "../thermal_video_data\\luu_cam_tu\n",
      "../thermal_video_data\\manh\n",
      "../thermal_video_data\\ngo_xuan\n",
      "../thermal_video_data\\nguyen_huu_duy\n",
      "../thermal_video_data\\nguyen_van_bang\n",
      "../thermal_video_data\\phung_thi_huong\n",
      "../thermal_video_data\\phuong\n",
      "../thermal_video_data\\pvthinh\n",
      "../thermal_video_data\\quang\n",
      "../thermal_video_data\\tom\n",
      "../thermal_video_data\\tuan_anh\n",
      "../thermal_video_data\\viet_anh\n"
     ]
    }
   ],
   "source": [
    "## Get video name and path\n",
    "import os\n",
    "from os import listdir\n",
    "from os.path import isfile, join\n",
    "\n",
    "# get folder name\n",
    "rootdir = '../thermal_video_data'\n",
    "list_path = []\n",
    "for file in os.listdir(rootdir):\n",
    "    d = os.path.join(rootdir, file)\n",
    "    if os.path.isdir(d):\n",
    "        print(d)\n",
    "        list_path.append(str(d))\n",
    "\n",
    "\n"
   ]
  },
  {
   "cell_type": "code",
   "execution_count": 2,
   "id": "f948d6be",
   "metadata": {},
   "outputs": [],
   "source": [
    "# get files name in specific folder\n",
    "def get_file_name(folder_path):\n",
    "    mypath = folder_path\n",
    "    onlyfiles = [f for f in listdir(mypath) if isfile(join(mypath, f))]\n",
    "    print(onlyfiles)"
   ]
  },
  {
   "cell_type": "code",
   "execution_count": 30,
   "id": "64a5334e",
   "metadata": {},
   "outputs": [
    {
     "name": "stdout",
     "output_type": "stream",
     "text": [
      "../thermal_video_data/an\n",
      "../thermal_video_data/doan_thi_linh_chi\n",
      "../thermal_video_data/duc_hieu\n",
      "../thermal_video_data/duc_long\n",
      "../thermal_video_data/hiepd19\n",
      "../thermal_video_data/huongd19\n",
      "../thermal_video_data/kvduc\n",
      "../thermal_video_data/luu_cam_tu\n",
      "../thermal_video_data/manh\n",
      "../thermal_video_data/ngo_xuan\n",
      "../thermal_video_data/nguyen_huu_duy\n",
      "../thermal_video_data/nguyen_van_bang\n",
      "../thermal_video_data/phung_thi_huong\n",
      "../thermal_video_data/phuong\n",
      "../thermal_video_data/pvthinh\n",
      "../thermal_video_data/quang\n",
      "../thermal_video_data/tom\n",
      "../thermal_video_data/tuan_anh\n",
      "../thermal_video_data/viet_anh\n"
     ]
    }
   ],
   "source": [
    "# list all files name\n",
    "for idx, folder_path in enumerate(list_path):\n",
    "#     get_file_name(folder_path)\n",
    "    part_of_path = folder_path.split(\"\\\\\")\n",
    "    list_path[idx] = '/'.join(part_of_path)\n",
    "    print(list_path[idx])"
   ]
  },
  {
   "cell_type": "code",
   "execution_count": 27,
   "id": "c31480b7",
   "metadata": {},
   "outputs": [],
   "source": [
    "# get video frames and save as images\n",
    "import cv2\n",
    "\n",
    "def get_video_frame(main_folder_path, video_path):\n",
    "    video_path_split = video_path.split(\"/\")\n",
    "    main_folder_split = main_folder_path.split(\"/\")\n",
    "    # create image capture folder path\n",
    "    parent_dir = \"/image_from_video/normal_image\"\n",
    "    if \"picam\" in video_path_split[-1]:\n",
    "        image_capture_path = \"../image_from_video/normal_image\" + \"/\" + main_folder_split[-1]\n",
    "        os.mkdir(image_capture_path)\n",
    "    else:\n",
    "        image_capture_path = \"../image_from_video/thermal_image\" + \"/\" + main_folder_split[-1]\n",
    "        os.mkdir(image_capture_path)\n",
    "    \n",
    "    vidcap = cv2.VideoCapture(video_path)\n",
    "    success,image = vidcap.read()\n",
    "    count = 0\n",
    "    \n",
    "\n",
    "\n",
    "#     while success:\n",
    "#         image_name = \"frame\"+ str(count) + \".jpg\"\n",
    "#         cv2.imwrite(image_name, image)   \n",
    "#         success,image = vidcap.read()\n",
    "#         print('Read a new frame: ', success)\n",
    "#         count += 1"
   ]
  },
  {
   "cell_type": "code",
   "execution_count": 32,
   "id": "a04255d2",
   "metadata": {},
   "outputs": [
    {
     "name": "stdout",
     "output_type": "stream",
     "text": [
      "../thermal_video_data/an/an.avi\n",
      "../thermal_video_data/an/an_picam.avi\n",
      "../thermal_video_data/doan_thi_linh_chi/doan_thi_linh_chi.avi\n",
      "../thermal_video_data/doan_thi_linh_chi/doan_thi_linh_chi_picam.avi\n",
      "../thermal_video_data/duc_hieu/duc_hieu.avi\n",
      "../thermal_video_data/duc_hieu/duc_hieu_picam.avi\n",
      "../thermal_video_data/duc_long/duc_long.avi\n",
      "../thermal_video_data/duc_long/duc_long_picam.avi\n",
      "../thermal_video_data/hiepd19/hiepd19.avi\n",
      "../thermal_video_data/hiepd19/hiepd19_picam.avi\n",
      "../thermal_video_data/huongd19/huongd19.avi\n",
      "../thermal_video_data/huongd19/huongd19_picam.avi\n",
      "../thermal_video_data/kvduc/kvduc.avi\n",
      "../thermal_video_data/kvduc/kvduc_picam.avi\n",
      "../thermal_video_data/luu_cam_tu/luu_cam_tu.avi\n",
      "../thermal_video_data/luu_cam_tu/luu_cam_tu_picam.avi\n",
      "../thermal_video_data/manh/manh.avi\n",
      "../thermal_video_data/manh/manh_picam.avi\n",
      "../thermal_video_data/ngo_xuan/ngo_xuan.avi\n",
      "../thermal_video_data/ngo_xuan/ngo_xuan_picam.avi\n",
      "../thermal_video_data/nguyen_huu_duy/nguyen_huu_duy.avi\n",
      "../thermal_video_data/nguyen_huu_duy/nguyen_huu_duy_picam.avi\n",
      "../thermal_video_data/nguyen_van_bang/nguyen_van_bang.avi\n",
      "../thermal_video_data/nguyen_van_bang/nguyen_van_bang_picam.avi\n",
      "../thermal_video_data/phung_thi_huong/phung_thi_huong.avi\n",
      "../thermal_video_data/phung_thi_huong/phung_thi_huong_picam.avi\n",
      "../thermal_video_data/phuong/phuong.avi\n",
      "../thermal_video_data/phuong/phuong_picam.avi\n",
      "../thermal_video_data/pvthinh/pvthinh.avi\n",
      "../thermal_video_data/pvthinh/pvthinh_picam.avi\n",
      "../thermal_video_data/quang/quang.avi\n",
      "../thermal_video_data/quang/quang_picam.avi\n",
      "../thermal_video_data/tom/tom.avi\n",
      "../thermal_video_data/tom/tom_picam.avi\n",
      "../thermal_video_data/tuan_anh/tuan_anh.avi\n",
      "../thermal_video_data/tuan_anh/tuan_anh_picam.avi\n",
      "../thermal_video_data/viet_anh/viet_anh.avi\n",
      "../thermal_video_data/viet_anh/viet_anh_picam.avi\n"
     ]
    }
   ],
   "source": [
    "for path in list_path:\n",
    "    file_names = os.listdir(path)\n",
    "    for file in file_names:\n",
    "        video_path = path + \"/\" + file\n",
    "        print(video_path)\n",
    "#         get_video_frame(path, video_path)"
   ]
  },
  {
   "cell_type": "code",
   "execution_count": null,
   "id": "1182c53f",
   "metadata": {},
   "outputs": [],
   "source": []
  }
 ],
 "metadata": {
  "kernelspec": {
   "display_name": "Python 3",
   "language": "python",
   "name": "python3"
  },
  "language_info": {
   "codemirror_mode": {
    "name": "ipython",
    "version": 3
   },
   "file_extension": ".py",
   "mimetype": "text/x-python",
   "name": "python",
   "nbconvert_exporter": "python",
   "pygments_lexer": "ipython3",
   "version": "3.8.8"
  }
 },
 "nbformat": 4,
 "nbformat_minor": 5
}
