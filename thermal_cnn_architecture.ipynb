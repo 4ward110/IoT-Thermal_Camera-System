{
 "cells": [
  {
   "cell_type": "code",
   "execution_count": 1,
   "id": "044cf036",
   "metadata": {},
   "outputs": [],
   "source": [
    "import os, shutil\n",
    "import tensorflow as tf\n",
    "import numpy as np\n",
    "import matplotlib.pyplot as plt\n",
    "import tensorflow.keras as keras\n",
    "from tensorflow.keras import optimizers\n",
    "from keras import regularizers\n",
    "from keras_preprocessing.image import ImageDataGenerator\n",
    "from tensorflow.keras.models import Sequential\n",
    "from tensorflow.keras.layers import Dense, Activation, Flatten, Dropout, BatchNormalization\n",
    "from tensorflow.keras.layers import Conv2D, MaxPooling2D\n",
    "from tensorflow.keras.preprocessing.image import ImageDataGenerator"
   ]
  },
  {
   "cell_type": "code",
   "execution_count": 2,
   "id": "fd091a85",
   "metadata": {},
   "outputs": [
    {
     "name": "stdout",
     "output_type": "stream",
     "text": [
      "C:/Users/vuduc/train_test_split_data/train\n",
      "C:/Users/vuduc/train_test_split_data/validation\n"
     ]
    }
   ],
   "source": [
    "# check image directory \n",
    "\n",
    "base_dir = 'C:/Users/vuduc/train_test_split_data/'\n",
    "train_dir = os.path.join(base_dir, 'train')\n",
    "print(train_dir)\n",
    "validation_dir = os.path.join(base_dir, 'validation')\n",
    "print(validation_dir)\n",
    "# test_dir = os.path.join(base_dir, 'test')\n",
    "# print(test_dir)"
   ]
  },
  {
   "cell_type": "code",
   "execution_count": 3,
   "id": "c3b34c1b",
   "metadata": {},
   "outputs": [
    {
     "name": "stdout",
     "output_type": "stream",
     "text": [
      "Model: \"sequential\"\n",
      "_________________________________________________________________\n",
      " Layer (type)                Output Shape              Param #   \n",
      "=================================================================\n",
      " conv2d (Conv2D)             (None, 72, 96, 32)        320       \n",
      "                                                                 \n",
      " activation (Activation)     (None, 72, 96, 32)        0         \n",
      "                                                                 \n",
      " batch_normalization (BatchN  (None, 72, 96, 32)       128       \n",
      " ormalization)                                                   \n",
      "                                                                 \n",
      " conv2d_1 (Conv2D)           (None, 72, 96, 32)        9248      \n",
      "                                                                 \n",
      " activation_1 (Activation)   (None, 72, 96, 32)        0         \n",
      "                                                                 \n",
      " batch_normalization_1 (Batc  (None, 72, 96, 32)       128       \n",
      " hNormalization)                                                 \n",
      "                                                                 \n",
      " max_pooling2d (MaxPooling2D  (None, 36, 48, 32)       0         \n",
      " )                                                               \n",
      "                                                                 \n",
      " conv2d_2 (Conv2D)           (None, 36, 48, 64)        18496     \n",
      "                                                                 \n",
      " activation_2 (Activation)   (None, 36, 48, 64)        0         \n",
      "                                                                 \n",
      " batch_normalization_2 (Batc  (None, 36, 48, 64)       256       \n",
      " hNormalization)                                                 \n",
      "                                                                 \n",
      " conv2d_3 (Conv2D)           (None, 36, 48, 64)        36928     \n",
      "                                                                 \n",
      " activation_3 (Activation)   (None, 36, 48, 64)        0         \n",
      "                                                                 \n",
      " batch_normalization_3 (Batc  (None, 36, 48, 64)       256       \n",
      " hNormalization)                                                 \n",
      "                                                                 \n",
      " max_pooling2d_1 (MaxPooling  (None, 18, 24, 64)       0         \n",
      " 2D)                                                             \n",
      "                                                                 \n",
      " conv2d_4 (Conv2D)           (None, 18, 24, 128)       73856     \n",
      "                                                                 \n",
      " activation_4 (Activation)   (None, 18, 24, 128)       0         \n",
      "                                                                 \n",
      " batch_normalization_4 (Batc  (None, 18, 24, 128)      512       \n",
      " hNormalization)                                                 \n",
      "                                                                 \n",
      " conv2d_5 (Conv2D)           (None, 18, 24, 128)       147584    \n",
      "                                                                 \n",
      " activation_5 (Activation)   (None, 18, 24, 128)       0         \n",
      "                                                                 \n",
      " batch_normalization_5 (Batc  (None, 18, 24, 128)      512       \n",
      " hNormalization)                                                 \n",
      "                                                                 \n",
      " max_pooling2d_2 (MaxPooling  (None, 9, 12, 128)       0         \n",
      " 2D)                                                             \n",
      "                                                                 \n",
      " flatten (Flatten)           (None, 13824)             0         \n",
      "                                                                 \n",
      " dense (Dense)               (None, 19)                262675    \n",
      "                                                                 \n",
      "=================================================================\n",
      "Total params: 550,899\n",
      "Trainable params: 550,003\n",
      "Non-trainable params: 896\n",
      "_________________________________________________________________\n"
     ]
    }
   ],
   "source": [
    "num_class = 19\n",
    "batch = 32\n",
    "weight_decay = 1e-4\n",
    "\n",
    "# propose CNN model\n",
    "model = Sequential()\n",
    "model.add(Conv2D(batch, (3, 3), padding='same', kernel_regularizer=regularizers.l2(weight_decay), input_shape=(72, 96, 1)))\n",
    "model.add(Activation('relu'))\n",
    "model.add(BatchNormalization())\n",
    "model.add(Conv2D(batch, (3, 3), padding='same', kernel_regularizer=regularizers.l2(weight_decay)))\n",
    "model.add(Activation('relu'))\n",
    "model.add(BatchNormalization())\n",
    "model.add(MaxPooling2D(pool_size=(2, 2)))\n",
    "\n",
    "model.add(Conv2D(2*batch, (3, 3), padding='same', kernel_regularizer=regularizers.l2(weight_decay)))\n",
    "model.add(Activation('relu'))\n",
    "model.add(BatchNormalization())\n",
    "model.add(Conv2D(2*batch, (3, 3), padding='same', kernel_regularizer=regularizers.l2(weight_decay)))\n",
    "model.add(Activation('relu'))\n",
    "model.add(BatchNormalization())\n",
    "model.add(MaxPooling2D(pool_size=(2, 2)))\n",
    "\n",
    "model.add(Conv2D(4*batch, (3, 3), padding='same', kernel_regularizer=regularizers.l2(weight_decay)))\n",
    "model.add(Activation('relu'))\n",
    "model.add(BatchNormalization())\n",
    "model.add(Conv2D(4*batch, (3, 3), padding='same', kernel_regularizer=regularizers.l2(weight_decay)))\n",
    "model.add(Activation('relu'))\n",
    "model.add(BatchNormalization())\n",
    "model.add(MaxPooling2D(pool_size=(2, 2)))\n",
    "\n",
    "# model.add(Conv2D(8*batch, (3, 3), padding='same', kernel_regularizer=regularizers.l2(weight_decay)))\n",
    "# model.add(Activation('relu'))\n",
    "# model.add(BatchNormalization())\n",
    "# model.add(Conv2D(8*batch, (3, 3), padding='same', kernel_regularizer=regularizers.l2(weight_decay)))\n",
    "# model.add(Activation('relu'))\n",
    "# model.add(BatchNormalization())\n",
    "# model.add(MaxPooling2D(pool_size=(2, 2)))\n",
    "\n",
    "model.add(Flatten())\n",
    "model.add(Dense(num_class, activation='softmax'))\n",
    "model.summary()\n"
   ]
  },
  {
   "cell_type": "code",
   "execution_count": 4,
   "id": "fffb1848",
   "metadata": {},
   "outputs": [
    {
     "name": "stdout",
     "output_type": "stream",
     "text": [
      "Found 5320 images belonging to 19 classes.\n",
      "Found 2281 images belonging to 19 classes.\n"
     ]
    }
   ],
   "source": [
    "# training optimize\n",
    "# model.compile(optimizer='adam',loss='sparse_categorical_crossentropy',metrics=['accuracy'])\n",
    "learning_rate = 1e-4\n",
    "momentum = 0.9\n",
    "model.compile(loss='categorical_crossentropy',\n",
    "              optimizer=optimizers.RMSprop(learning_rate=learning_rate, momentum=momentum, decay=1e-6), #Decrease learning rate\n",
    "              metrics=['accuracy'])\n",
    "\n",
    "arg = ImageDataGenerator(rotation_range=0.1, zoom_range=0.1, width_shift_range=0.2, height_shift_range=0.2, horizontal_flip=True)\n",
    "\n",
    "train_datagen = ImageDataGenerator(rescale=1./255)\n",
    "test_datagen = ImageDataGenerator(rescale=1./255)\n",
    "\n",
    "train_generator = train_datagen.flow_from_directory(\n",
    "        train_dir, # Target directory\n",
    "        target_size=(72, 96), # resize img to 112x112\n",
    "        batch_size= 32, \n",
    "        color_mode='grayscale',\n",
    "        class_mode='categorical')\n",
    "\n",
    "validation_generator = test_datagen.flow_from_directory(\n",
    "        validation_dir,\n",
    "        target_size=(72, 96),\n",
    "        batch_size= 32,\n",
    "        color_mode='grayscale',\n",
    "        class_mode='categorical')"
   ]
  },
  {
   "cell_type": "code",
   "execution_count": 5,
   "id": "da14c2a9",
   "metadata": {},
   "outputs": [
    {
     "name": "stdout",
     "output_type": "stream",
     "text": [
      "Epoch 1/30\n",
      "167/167 [==============================] - 200s 1s/step - loss: 0.8461 - accuracy: 0.8267 - val_loss: 19.5395 - val_accuracy: 0.0519\n",
      "Epoch 2/30\n",
      "167/167 [==============================] - 186s 1s/step - loss: 0.2366 - accuracy: 0.9635 - val_loss: 25.0474 - val_accuracy: 0.0538\n",
      "Epoch 3/30\n",
      "167/167 [==============================] - 194s 1s/step - loss: 0.1981 - accuracy: 0.9778 - val_loss: 6.7850 - val_accuracy: 0.5619\n",
      "Epoch 4/30\n",
      "167/167 [==============================] - 173s 1s/step - loss: 0.0982 - accuracy: 0.9898 - val_loss: 0.0954 - val_accuracy: 0.9900\n",
      "Epoch 5/30\n",
      "167/167 [==============================] - 191s 1s/step - loss: 0.0808 - accuracy: 0.9936 - val_loss: 1.1810 - val_accuracy: 0.9206\n",
      "Epoch 6/30\n",
      "167/167 [==============================] - 184s 1s/step - loss: 0.0811 - accuracy: 0.9938 - val_loss: 2.5956 - val_accuracy: 0.8069\n",
      "Epoch 7/30\n",
      "167/167 [==============================] - 182s 1s/step - loss: 0.0961 - accuracy: 0.9934 - val_loss: 0.0897 - val_accuracy: 0.9912\n",
      "Epoch 8/30\n",
      "167/167 [==============================] - 170s 1s/step - loss: 0.0656 - accuracy: 0.9959 - val_loss: 0.2065 - val_accuracy: 0.9800\n",
      "Epoch 9/30\n",
      "167/167 [==============================] - 204s 1s/step - loss: 0.0671 - accuracy: 0.9961 - val_loss: 0.0744 - val_accuracy: 0.9937\n",
      "Epoch 10/30\n",
      "167/167 [==============================] - 190s 1s/step - loss: 0.0669 - accuracy: 0.9968 - val_loss: 0.2338 - val_accuracy: 0.9663\n",
      "Epoch 11/30\n",
      "167/167 [==============================] - 174s 1s/step - loss: 0.0427 - accuracy: 0.9989 - val_loss: 0.2271 - val_accuracy: 0.9700\n",
      "Epoch 12/30\n",
      "167/167 [==============================] - 187s 1s/step - loss: 0.0390 - accuracy: 0.9985 - val_loss: 0.0959 - val_accuracy: 0.9937\n",
      "Epoch 13/30\n",
      "167/167 [==============================] - 175s 1s/step - loss: 0.0584 - accuracy: 0.9966 - val_loss: 0.9953 - val_accuracy: 0.9463\n",
      "Epoch 14/30\n",
      "167/167 [==============================] - 170s 1s/step - loss: 0.0454 - accuracy: 0.9979 - val_loss: 0.1476 - val_accuracy: 0.9775\n",
      "Epoch 15/30\n",
      "167/167 [==============================] - 175s 1s/step - loss: 0.0470 - accuracy: 0.9972 - val_loss: 0.1103 - val_accuracy: 0.9856\n",
      "Epoch 16/30\n",
      "167/167 [==============================] - 189s 1s/step - loss: 0.0473 - accuracy: 0.9961 - val_loss: 0.1214 - val_accuracy: 0.9881\n",
      "Epoch 17/30\n",
      "167/167 [==============================] - 189s 1s/step - loss: 0.0398 - accuracy: 0.9981 - val_loss: 0.0477 - val_accuracy: 0.9956\n",
      "Epoch 18/30\n",
      "167/167 [==============================] - 160s 960ms/step - loss: 0.0268 - accuracy: 1.0000 - val_loss: 0.0541 - val_accuracy: 0.9956\n",
      "Epoch 19/30\n",
      "167/167 [==============================] - 160s 959ms/step - loss: 0.0265 - accuracy: 0.9989 - val_loss: 3.2674 - val_accuracy: 0.7394\n",
      "Epoch 20/30\n",
      "167/167 [==============================] - 166s 996ms/step - loss: 0.0432 - accuracy: 0.9957 - val_loss: 1.5874 - val_accuracy: 0.9075\n",
      "Epoch 21/30\n",
      "167/167 [==============================] - 172s 1s/step - loss: 0.0522 - accuracy: 0.9953 - val_loss: 0.8377 - val_accuracy: 0.9463\n",
      "Epoch 22/30\n",
      "167/167 [==============================] - 185s 1s/step - loss: 0.0254 - accuracy: 0.9994 - val_loss: 0.0528 - val_accuracy: 0.9969\n",
      "Epoch 23/30\n",
      "167/167 [==============================] - 174s 1s/step - loss: 0.0275 - accuracy: 0.9992 - val_loss: 0.2460 - val_accuracy: 0.9700\n",
      "Epoch 24/30\n",
      "167/167 [==============================] - 178s 1s/step - loss: 0.0406 - accuracy: 0.9964 - val_loss: 0.0801 - val_accuracy: 0.9881\n",
      "Epoch 25/30\n",
      "167/167 [==============================] - 159s 951ms/step - loss: 0.0181 - accuracy: 0.9996 - val_loss: 0.1252 - val_accuracy: 0.9894\n",
      "Epoch 26/30\n",
      "167/167 [==============================] - 164s 986ms/step - loss: 0.0177 - accuracy: 0.9994 - val_loss: 0.1095 - val_accuracy: 0.9894\n",
      "Epoch 27/30\n",
      "167/167 [==============================] - 159s 949ms/step - loss: 0.0310 - accuracy: 0.9972 - val_loss: 0.2198 - val_accuracy: 0.9812\n",
      "Epoch 28/30\n",
      "167/167 [==============================] - 158s 945ms/step - loss: 0.0248 - accuracy: 0.9989 - val_loss: 0.6198 - val_accuracy: 0.9350\n",
      "Epoch 29/30\n",
      "167/167 [==============================] - 158s 948ms/step - loss: 0.0324 - accuracy: 0.9989 - val_loss: 0.0800 - val_accuracy: 0.9906\n",
      "Epoch 30/30\n",
      "167/167 [==============================] - 156s 936ms/step - loss: 0.0170 - accuracy: 0.9992 - val_loss: 0.0173 - val_accuracy: 0.9981\n"
     ]
    }
   ],
   "source": [
    "#Training and validation\n",
    "\n",
    "history = model.fit(\n",
    "      train_generator,\n",
    "      epochs= 30,\n",
    "      validation_data=validation_generator,\n",
    "      validation_steps=50)"
   ]
  },
  {
   "cell_type": "code",
   "execution_count": 6,
   "id": "8bdc5aaf",
   "metadata": {},
   "outputs": [
    {
     "data": {
      "image/png": "[encoded data removed]",
      "text/plain": [
       "<Figure size 432x288 with 1 Axes>"
      ]
     },
     "metadata": {
      "needs_background": "light"
     },
     "output_type": "display_data"
    },
    {
     "data": {
      "image/png": "[encoded data removed]",
      "text/plain": [
       "<Figure size 432x288 with 1 Axes>"
      ]
     },
     "metadata": {
      "needs_background": "light"
     },
     "output_type": "display_data"
    }
   ],
   "source": [
    "#Plot of the loss and accuracy during training\n",
    "\n",
    "acc = history.history['accuracy']\n",
    "val_acc = history.history['val_accuracy']\n",
    "loss = history.history['loss']\n",
    "val_loss = history.history['val_loss']\n",
    "\n",
    "epochs = range(len(acc))\n",
    "\n",
    "plt.plot(epochs, acc, 'bo', label='Training acc')\n",
    "plt.plot(epochs, val_acc, 'b', label='Validation acc')\n",
    "plt.title('Training and validation accuracy')\n",
    "plt.legend()\n",
    "\n",
    "plt.figure()\n",
    "\n",
    "plt.plot(epochs, loss, 'bo', label='Training loss')\n",
    "plt.plot(epochs, val_loss, 'b', label='Validation loss')\n",
    "plt.title('Training and validation loss')\n",
    "plt.legend()\n",
    "\n",
    "plt.show()"
   ]
  },
  {
   "cell_type": "code",
   "execution_count": 7,
   "id": "17d486fe",
   "metadata": {},
   "outputs": [
    {
     "ename": "NameError",
     "evalue": "name 'test_dir' is not defined",
     "output_type": "error",
     "traceback": [
      "\u001b[1;31m---------------------------------------------------------------------------\u001b[0m",
      "\u001b[1;31mNameError\u001b[0m                                 Traceback (most recent call last)",
      "\u001b[1;32m<ipython-input-7-0960da4c37fa>\u001b[0m in \u001b[0;36m<module>\u001b[1;34m\u001b[0m\n\u001b[0;32m      1\u001b[0m \u001b[1;31m#Test stage\u001b[0m\u001b[1;33m\u001b[0m\u001b[1;33m\u001b[0m\u001b[1;33m\u001b[0m\u001b[0m\n\u001b[0;32m      2\u001b[0m test_generator = test_datagen.flow_from_directory(\n\u001b[1;32m----> 3\u001b[1;33m         \u001b[0mtest_dir\u001b[0m\u001b[1;33m,\u001b[0m\u001b[1;33m\u001b[0m\u001b[1;33m\u001b[0m\u001b[0m\n\u001b[0m\u001b[0;32m      4\u001b[0m         \u001b[0mtarget_size\u001b[0m\u001b[1;33m=\u001b[0m\u001b[1;33m(\u001b[0m\u001b[1;36m72\u001b[0m\u001b[1;33m,\u001b[0m \u001b[1;36m96\u001b[0m\u001b[1;33m)\u001b[0m\u001b[1;33m,\u001b[0m\u001b[1;33m\u001b[0m\u001b[1;33m\u001b[0m\u001b[0m\n\u001b[0;32m      5\u001b[0m         \u001b[0mbatch_size\u001b[0m\u001b[1;33m=\u001b[0m\u001b[1;36m2\u001b[0m\u001b[1;33m,\u001b[0m\u001b[1;33m\u001b[0m\u001b[1;33m\u001b[0m\u001b[0m\n",
      "\u001b[1;31mNameError\u001b[0m: name 'test_dir' is not defined"
     ]
    }
   ],
   "source": [
    "#Test stage\n",
    "test_generator = test_datagen.flow_from_directory(\n",
    "        test_dir,\n",
    "        target_size=(72, 96),\n",
    "        batch_size=2,\n",
    "        color_mode='grayscale',\n",
    "        class_mode='categorical')\n",
    "\n",
    "test_loss, test_acc = model.evaluate(test_generator, steps=30)"
   ]
  },
  {
   "cell_type": "code",
   "execution_count": null,
   "id": "a1d5182f",
   "metadata": {},
   "outputs": [],
   "source": [
    "# Hyperparameter tunning - optimize parameter\n",
    "\n",
    "learning_rates = [0.001, 0.01, 0.05, 0.005]\n",
    "momentums = [0.7 , 0.75, 0.8 , 0.85, 0.9, 0.95]\n",
    "kernel_size = [3, 5, 7]\n",
    "number_of_block = [3, 4, 5, 6, 7]\n",
    "network_deep = [2, 3, 4]\n",
    "epochs = [20, 30, 40, 50]\n",
    "\n",
    "def add_block(num_layer, kernel_size):\n",
    "    for i in range num_layer:\n",
    "        model.add(Conv2D(batch, (kernel_size, kernel_size), padding='same', kernel_regularizer=regularizers.l2(weight_decay), input_shape=(72, 96, 1)))\n",
    "        model.add(Activation('relu'))\n",
    "        model.add(BatchNormalization())\n",
    "    model.add(MaxPooling2D(pool_size=(2, 2)))\n",
    "\n",
    "def remove_all_current_layer(block, net_deep):\n",
    "    num_layer = lens(model.layers)\n",
    "    for i in range(num_layer):\n",
    "        model.layers.pop()\n",
    "    \n",
    "    \n",
    "for block in number_of_block:\n",
    "    for net_deep in network_deep:\n",
    "        for kernel in kernel_size:\n",
    "            for i in range(block):\n",
    "                add_block(net_deep, kernel)\n",
    "            for learning_rate in learning_rates:\n",
    "                for momentum in momentums:\n",
    "                    #finish model\n",
    "                    model.add(Flatten())\n",
    "                    model.add(Dense(num_class, activation='softmax'))\n",
    "                    # compile model\n",
    "                    model.compile(loss='categorical_crossentropy',\n",
    "                    optimizer=optimizers.RMSprop(learning_rate=learning_rate, momentum=momentum, decay=1e-6), #Decrease learning rate\n",
    "                    metrics=['accuracy'])\n",
    "                    \n",
    "                    #fit data to model\n",
    "                    history = model.fit(\n",
    "                              train_generator,\n",
    "                              batch_size=32, \n",
    "                              epochs= 40,\n",
    "                              validation_data=validation_generator,\n",
    "                              validation_steps=100)\n",
    "                    # after training => get final acc and loss\n",
    "                    \n",
    "                    acc = history.history['accuracy']\n",
    "                    val_acc = history.history['val_accuracy']\n",
    "                    loss = history.history['loss']\n",
    "                    val_loss = history.history['val_loss']\n",
    "                    \n",
    "                    \n",
    "        remove_all_current_layer(block, net_deep)\n",
    "        \n"
   ]
  },
  {
   "cell_type": "code",
   "execution_count": null,
   "id": "f88aa3ef",
   "metadata": {},
   "outputs": [],
   "source": []
  }
 ],
 "metadata": {
  "kernelspec": {
   "display_name": "Python 3",
   "language": "python",
   "name": "python3"
  },
  "language_info": {
   "codemirror_mode": {
    "name": "ipython",
    "version": 3
   },
   "file_extension": ".py",
   "mimetype": "text/x-python",
   "name": "python",
   "nbconvert_exporter": "python",
   "pygments_lexer": "ipython3",
   "version": "3.8.8"
  }
 },
 "nbformat": 4,
 "nbformat_minor": 5
}
